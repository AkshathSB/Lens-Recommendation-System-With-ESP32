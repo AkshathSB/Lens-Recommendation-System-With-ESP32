{
 "cells": [
  {
   "cell_type": "code",
   "execution_count": 1,
   "metadata": {},
   "outputs": [],
   "source": [
    "import pandas as pd\n",
    "import numpy as np\n",
    "# Ref for matplotlib: https://www.tutorialspoint.com/matplotlib/index.htm\n",
    "import matplotlib.pyplot as plt\n",
    "import tensorflow as tf\n",
    "\n",
    "from tensorflow.keras.layers import Input, Dense, Activation, Dropout\n",
    "from tensorflow.keras.models import Model"
   ]
  },
  {
   "cell_type": "code",
   "execution_count": 9,
   "metadata": {},
   "outputs": [
    {
     "name": "stdout",
     "output_type": "stream",
     "text": [
      "['age', 'prescription', 'astigmatic', 'tear_rate', 'lens_type']\n",
      "    age  prescription  astigmatic  tear_rate  lens_type\n",
      "0     1             1           1          1          3\n",
      "1     1             1           1          2          2\n",
      "2     1             1           2          1          3\n",
      "3     1             1           2          2          1\n",
      "4     1             2           1          1          3\n",
      "5     1             2           1          2          2\n",
      "6     1             2           2          1          3\n",
      "7     1             2           2          2          1\n",
      "8     2             1           1          1          3\n",
      "9     2             1           1          2          2\n",
      "10    2             1           2          1          3\n",
      "11    2             1           2          2          1\n",
      "12    2             2           1          1          3\n",
      "13    2             2           1          2          2\n",
      "14    2             2           2          1          3\n",
      "15    2             2           2          2          3\n",
      "16    3             1           1          1          3\n",
      "17    3             1           1          2          3\n",
      "18    3             1           2          1          3\n",
      "19    3             1           2          2          1\n",
      "20    3             2           1          1          3\n",
      "21    3             2           1          2          2\n",
      "22    3             2           2          1          3\n",
      "23    3             2           2          2          3\n"
     ]
    }
   ],
   "source": [
    "import pandas as pd\n",
    "\n",
    "# Define column names for the lenses dataset\n",
    "cols = ['age', 'prescription', 'astigmatic', 'tear_rate', 'lens_type']\n",
    "\n",
    "# Import the CSV file for the lenses dataset into a DataFrame\n",
    "lenses = pd.read_csv(r'C:\\Users\\Akshath\\COURSES\\IOT\\Lenses_CP3project\\lenses\\lenses.csv', names=cols, header=0)\n",
    "\n",
    "# Display the column names and the DataFrame\n",
    "print(cols)\n",
    "print(lenses)  # This will display the DataFrame with the lenses data\n"
   ]
  },
  {
   "cell_type": "code",
   "execution_count": 10,
   "metadata": {},
   "outputs": [
    {
     "data": {
      "text/html": [
       "<div>\n",
       "<style scoped>\n",
       "    .dataframe tbody tr th:only-of-type {\n",
       "        vertical-align: middle;\n",
       "    }\n",
       "\n",
       "    .dataframe tbody tr th {\n",
       "        vertical-align: top;\n",
       "    }\n",
       "\n",
       "    .dataframe thead th {\n",
       "        text-align: right;\n",
       "    }\n",
       "</style>\n",
       "<table border=\"1\" class=\"dataframe\">\n",
       "  <thead>\n",
       "    <tr style=\"text-align: right;\">\n",
       "      <th></th>\n",
       "      <th>age</th>\n",
       "      <th>prescription</th>\n",
       "      <th>astigmatic</th>\n",
       "      <th>tear_rate</th>\n",
       "      <th>lens_type</th>\n",
       "    </tr>\n",
       "  </thead>\n",
       "  <tbody>\n",
       "    <tr>\n",
       "      <th>0</th>\n",
       "      <td>1</td>\n",
       "      <td>1</td>\n",
       "      <td>1</td>\n",
       "      <td>1</td>\n",
       "      <td>3</td>\n",
       "    </tr>\n",
       "    <tr>\n",
       "      <th>1</th>\n",
       "      <td>1</td>\n",
       "      <td>1</td>\n",
       "      <td>1</td>\n",
       "      <td>2</td>\n",
       "      <td>2</td>\n",
       "    </tr>\n",
       "    <tr>\n",
       "      <th>2</th>\n",
       "      <td>1</td>\n",
       "      <td>1</td>\n",
       "      <td>2</td>\n",
       "      <td>1</td>\n",
       "      <td>3</td>\n",
       "    </tr>\n",
       "    <tr>\n",
       "      <th>3</th>\n",
       "      <td>1</td>\n",
       "      <td>1</td>\n",
       "      <td>2</td>\n",
       "      <td>2</td>\n",
       "      <td>1</td>\n",
       "    </tr>\n",
       "    <tr>\n",
       "      <th>4</th>\n",
       "      <td>1</td>\n",
       "      <td>2</td>\n",
       "      <td>1</td>\n",
       "      <td>1</td>\n",
       "      <td>3</td>\n",
       "    </tr>\n",
       "  </tbody>\n",
       "</table>\n",
       "</div>"
      ],
      "text/plain": [
       "   age  prescription  astigmatic  tear_rate  lens_type\n",
       "0    1             1           1          1          3\n",
       "1    1             1           1          2          2\n",
       "2    1             1           2          1          3\n",
       "3    1             1           2          2          1\n",
       "4    1             2           1          1          3"
      ]
     },
     "execution_count": 10,
     "metadata": {},
     "output_type": "execute_result"
    }
   ],
   "source": [
    "lenses.head()"
   ]
  },
  {
   "cell_type": "code",
   "execution_count": 11,
   "metadata": {},
   "outputs": [],
   "source": [
    "plot_size = plt.rcParams[\"figure.figsize\"]\n",
    "plot_size [0] = 10 #8\n",
    "plot_size [1] = 10 #6\n",
    "plt.rcParams[\"figure.figsize\"] = plot_size"
   ]
  },
  {
   "cell_type": "code",
   "execution_count": 14,
   "metadata": {},
   "outputs": [
    {
     "data": {
      "image/png": "[encoded data removed]",
      "text/plain": [
       "<Figure size 1000x1000 with 1 Axes>"
      ]
     },
     "metadata": {},
     "output_type": "display_data"
    }
   ],
   "source": [
    "import matplotlib.pyplot as plt\n",
    "\n",
    "# Plot the distribution of lens types as a pie chart\n",
    "lenses['lens_type'].value_counts().plot(\n",
    "    kind='pie', \n",
    "    autopct='%0.2f%%', \n",
    "    colors=['lightblue', 'lightgreen', 'orange'], \n",
    "    explode=(0.05, 0.05, 0.05)\n",
    ")\n",
    "\n",
    "# Set title and display the plot\n",
    "plt.title(\"Distribution of Lens Types\")\n",
    "plt.ylabel('')  # Hide y-label for better visualization\n",
    "plt.show()\n"
   ]
  },
  {
   "cell_type": "code",
   "execution_count": 15,
   "metadata": {},
   "outputs": [
    {
     "name": "stdout",
     "output_type": "stream",
     "text": [
      "    age_1  age_2  age_3\n",
      "0       1      0      0\n",
      "1       1      0      0\n",
      "2       1      0      0\n",
      "3       1      0      0\n",
      "4       1      0      0\n",
      "5       1      0      0\n",
      "6       1      0      0\n",
      "7       1      0      0\n",
      "8       0      1      0\n",
      "9       0      1      0\n",
      "10      0      1      0\n",
      "11      0      1      0\n",
      "12      0      1      0\n",
      "13      0      1      0\n",
      "14      0      1      0\n",
      "15      0      1      0\n",
      "16      0      0      1\n",
      "17      0      0      1\n",
      "18      0      0      1\n",
      "19      0      0      1\n",
      "20      0      0      1\n",
      "21      0      0      1\n",
      "22      0      0      1\n",
      "23      0      0      1\n",
      "    prescription_1  prescription_2\n",
      "0                1               0\n",
      "1                1               0\n",
      "2                1               0\n",
      "3                1               0\n",
      "4                0               1\n",
      "5                0               1\n",
      "6                0               1\n",
      "7                0               1\n",
      "8                1               0\n",
      "9                1               0\n",
      "10               1               0\n",
      "11               1               0\n",
      "12               0               1\n",
      "13               0               1\n",
      "14               0               1\n",
      "15               0               1\n",
      "16               1               0\n",
      "17               1               0\n",
      "18               1               0\n",
      "19               1               0\n",
      "20               0               1\n",
      "21               0               1\n",
      "22               0               1\n",
      "23               0               1\n",
      "    astigmatic_1  astigmatic_2\n",
      "0              1             0\n",
      "1              1             0\n",
      "2              0             1\n",
      "3              0             1\n",
      "4              1             0\n",
      "5              1             0\n",
      "6              0             1\n",
      "7              0             1\n",
      "8              1             0\n",
      "9              1             0\n",
      "10             0             1\n",
      "11             0             1\n",
      "12             1             0\n",
      "13             1             0\n",
      "14             0             1\n",
      "15             0             1\n",
      "16             1             0\n",
      "17             1             0\n",
      "18             0             1\n",
      "19             0             1\n",
      "20             1             0\n",
      "21             1             0\n",
      "22             0             1\n",
      "23             0             1\n",
      "    tear_rate_1  tear_rate_2\n",
      "0             1            0\n",
      "1             0            1\n",
      "2             1            0\n",
      "3             0            1\n",
      "4             1            0\n",
      "5             0            1\n",
      "6             1            0\n",
      "7             0            1\n",
      "8             1            0\n",
      "9             0            1\n",
      "10            1            0\n",
      "11            0            1\n",
      "12            1            0\n",
      "13            0            1\n",
      "14            1            0\n",
      "15            0            1\n",
      "16            1            0\n",
      "17            0            1\n",
      "18            1            0\n",
      "19            0            1\n",
      "20            1            0\n",
      "21            0            1\n",
      "22            1            0\n",
      "23            0            1\n",
      "    lens_type_1  lens_type_2  lens_type_3\n",
      "0             0            0            1\n",
      "1             0            1            0\n",
      "2             0            0            1\n",
      "3             1            0            0\n",
      "4             0            0            1\n",
      "5             0            1            0\n",
      "6             0            0            1\n",
      "7             1            0            0\n",
      "8             0            0            1\n",
      "9             0            1            0\n",
      "10            0            0            1\n",
      "11            1            0            0\n",
      "12            0            0            1\n",
      "13            0            1            0\n",
      "14            0            0            1\n",
      "15            0            0            1\n",
      "16            0            0            1\n",
      "17            0            0            1\n",
      "18            0            0            1\n",
      "19            1            0            0\n",
      "20            0            0            1\n",
      "21            0            1            0\n",
      "22            0            0            1\n",
      "23            0            0            1\n"
     ]
    }
   ],
   "source": [
    "import pandas as pd\n",
    "\n",
    "# Load the dataset\n",
    "file_path = r'C:\\Users\\Akshath\\COURSES\\IOT\\Lenses_CP3project\\lenses\\lenses.csv'\n",
    "lenses = pd.read_csv(file_path)\n",
    "\n",
    "# Convert each categorical feature into dummy/indicator variables\n",
    "age_dummies = pd.get_dummies(lenses.age, prefix='age')\n",
    "prescription_dummies = pd.get_dummies(lenses.prescription, prefix='prescription')\n",
    "astigmatic_dummies = pd.get_dummies(lenses.astigmatic, prefix='astigmatic')\n",
    "tear_rate_dummies = pd.get_dummies(lenses.tear_rate, prefix='tear_rate')\n",
    "\n",
    "# Convert the target variable into dummy variables\n",
    "lens_type_dummies = pd.get_dummies(lenses.lens_type, prefix='lens_type')\n",
    "\n",
    "# Display the transformed dummy variables for verification\n",
    "print(age_dummies)\n",
    "print(prescription_dummies)\n",
    "print(astigmatic_dummies)\n",
    "print(tear_rate_dummies)\n",
    "print(lens_type_dummies)\n"
   ]
  },
  {
   "cell_type": "code",
   "execution_count": 16,
   "metadata": {},
   "outputs": [
    {
     "name": "stdout",
     "output_type": "stream",
     "text": [
      "(24, 9)\n",
      "    age_1  age_2  age_3  prescription_1  prescription_2  astigmatic_1  \\\n",
      "0       1      0      0               1               0             1   \n",
      "1       1      0      0               1               0             1   \n",
      "2       1      0      0               1               0             0   \n",
      "3       1      0      0               1               0             0   \n",
      "4       1      0      0               0               1             1   \n",
      "5       1      0      0               0               1             1   \n",
      "6       1      0      0               0               1             0   \n",
      "7       1      0      0               0               1             0   \n",
      "8       0      1      0               1               0             1   \n",
      "9       0      1      0               1               0             1   \n",
      "10      0      1      0               1               0             0   \n",
      "11      0      1      0               1               0             0   \n",
      "12      0      1      0               0               1             1   \n",
      "13      0      1      0               0               1             1   \n",
      "14      0      1      0               0               1             0   \n",
      "15      0      1      0               0               1             0   \n",
      "16      0      0      1               1               0             1   \n",
      "17      0      0      1               1               0             1   \n",
      "18      0      0      1               1               0             0   \n",
      "19      0      0      1               1               0             0   \n",
      "20      0      0      1               0               1             1   \n",
      "21      0      0      1               0               1             1   \n",
      "22      0      0      1               0               1             0   \n",
      "23      0      0      1               0               1             0   \n",
      "\n",
      "    astigmatic_2  tear_rate_1  tear_rate_2  \n",
      "0              0            1            0  \n",
      "1              0            0            1  \n",
      "2              1            1            0  \n",
      "3              1            0            1  \n",
      "4              0            1            0  \n",
      "5              0            0            1  \n",
      "6              1            1            0  \n",
      "7              1            0            1  \n",
      "8              0            1            0  \n",
      "9              0            0            1  \n",
      "10             1            1            0  \n",
      "11             1            0            1  \n",
      "12             0            1            0  \n",
      "13             0            0            1  \n",
      "14             1            1            0  \n",
      "15             1            0            1  \n",
      "16             0            1            0  \n",
      "17             0            0            1  \n",
      "18             1            1            0  \n",
      "19             1            0            1  \n",
      "20             0            1            0  \n",
      "21             0            0            1  \n",
      "22             1            1            0  \n",
      "23             1            0            1  \n"
     ]
    }
   ],
   "source": [
    "# Concatenate all dummy variables into a single DataFrame for features\n",
    "X = pd.concat([age_dummies, prescription_dummies, astigmatic_dummies, tear_rate_dummies], axis=1)\n",
    "\n",
    "# Display the shape and content of the feature matrix\n",
    "print(X.shape)\n",
    "print(X)\n"
   ]
  },
  {
   "cell_type": "code",
   "execution_count": 19,
   "metadata": {},
   "outputs": [
    {
     "name": "stdout",
     "output_type": "stream",
     "text": [
      "   prescription_1  prescription_2\n",
      "0               1               0\n",
      "1               1               0\n",
      "2               1               0\n",
      "3               1               0\n",
      "4               0               1\n",
      "   astigmatic_1  astigmatic_2\n",
      "0             1             0\n",
      "1             1             0\n",
      "2             0             1\n",
      "3             0             1\n",
      "4             1             0\n",
      "   tear_rate_1  tear_rate_2\n",
      "0            1            0\n",
      "1            0            1\n",
      "2            1            0\n",
      "3            0            1\n",
      "4            1            0\n"
     ]
    }
   ],
   "source": [
    "# Display the first few rows of other one-hot encoded features\n",
    "print(prescription_dummies.head())\n",
    "print(astigmatic_dummies.head())\n",
    "print(tear_rate_dummies.head())\n"
   ]
  },
  {
   "cell_type": "code",
   "execution_count": 20,
   "metadata": {},
   "outputs": [
    {
     "name": "stdout",
     "output_type": "stream",
     "text": [
      "Shape of X: (24, 9)\n",
      "Shape of y: (24, 3)\n",
      "Shape of X_train and X_test: (19, 9) (5, 9)\n",
      "Shape of y_train and y_test: (19, 3) (5, 3)\n"
     ]
    }
   ],
   "source": [
    "from sklearn.model_selection import train_test_split\n",
    "\n",
    "# X is the feature matrix created by concatenating dummy variables\n",
    "# y is the target variable created from the one-hot encoded labels\n",
    "y = lens_type_dummies\n",
    "\n",
    "# Display shapes of X and y for verification\n",
    "print(\"Shape of X:\", X.shape)\n",
    "print(\"Shape of y:\", y.shape)\n",
    "\n",
    "# Splitting data into training and testing sets (20% for testing)\n",
    "X_train, X_test, y_train, y_test = train_test_split(X, y, test_size=0.20, random_state=42)\n",
    "\n",
    "# Display the shapes of training and testing sets\n",
    "print(\"Shape of X_train and X_test:\", X_train.shape, X_test.shape)\n",
    "print(\"Shape of y_train and y_test:\", y_train.shape, y_test.shape)\n"
   ]
  },
  {
   "cell_type": "code",
   "execution_count": 21,
   "metadata": {},
   "outputs": [
    {
     "name": "stdout",
     "output_type": "stream",
     "text": [
      "Input shape: 9\n",
      "Output shape: 3\n"
     ]
    }
   ],
   "source": [
    "import tensorflow as tf\n",
    "\n",
    "# Define the number of nodes in each layer of the network\n",
    "DENSE1_SIZE = 15\n",
    "DENSE2_SIZE = 10\n",
    "NUM_OF_EPOCHS = 50\n",
    "BATCH_SIZE = 8\n",
    "\n",
    "# Initialize the model\n",
    "model = tf.keras.Sequential()\n",
    "\n",
    "# Input layer: Flatten layer to handle input shape of 9 features\n",
    "input_shape = X.shape[1]\n",
    "print(\"Input shape:\", input_shape)\n",
    "model.add(tf.keras.layers.Flatten(input_shape=(input_shape,)))\n",
    "\n",
    "# First dense layer with ReLU activation\n",
    "model.add(tf.keras.layers.Dense(DENSE1_SIZE, activation='relu'))\n",
    "\n",
    "# Second dense layer with ReLU activation\n",
    "model.add(tf.keras.layers.Dense(DENSE2_SIZE, activation='relu'))\n",
    "\n",
    "# Output layer: softmax activation for multi-class classification (3 classes)\n",
    "output_shape = y.shape[1]\n",
    "print(\"Output shape:\", output_shape)\n",
    "model.add(tf.keras.layers.Dense(output_shape, activation='softmax'))\n",
    "\n",
    "# Compile the model with Adam optimizer and categorical crossentropy loss\n",
    "model.compile(loss='categorical_crossentropy', optimizer='adam', metrics=['acc'])\n"
   ]
  },
  {
   "cell_type": "code",
   "execution_count": 22,
   "metadata": {},
   "outputs": [
    {
     "name": "stdout",
     "output_type": "stream",
     "text": [
      "Model: \"sequential\"\n",
      "_________________________________________________________________\n",
      " Layer (type)                Output Shape              Param #   \n",
      "=================================================================\n",
      " flatten (Flatten)           (None, 9)                 0         \n",
      "                                                                 \n",
      " dense (Dense)               (None, 15)                150       \n",
      "                                                                 \n",
      " dense_1 (Dense)             (None, 10)                160       \n",
      "                                                                 \n",
      " dense_2 (Dense)             (None, 3)                 33        \n",
      "                                                                 \n",
      "=================================================================\n",
      "Total params: 343\n",
      "Trainable params: 343\n",
      "Non-trainable params: 0\n",
      "_________________________________________________________________\n",
      "None\n"
     ]
    }
   ],
   "source": [
    "print(model.summary())"
   ]
  },
  {
   "cell_type": "code",
   "execution_count": 23,
   "metadata": {},
   "outputs": [
    {
     "name": "stdout",
     "output_type": "stream",
     "text": [
      "Epoch 1/50\n",
      "2/2 [==============================] - 1s 182ms/step - loss: 1.3076 - acc: 0.2000 - val_loss: 0.9228 - val_acc: 0.5000\n",
      "Epoch 2/50\n",
      "2/2 [==============================] - 0s 26ms/step - loss: 1.2854 - acc: 0.2667 - val_loss: 0.9110 - val_acc: 0.5000\n",
      "Epoch 3/50\n",
      "2/2 [==============================] - 0s 29ms/step - loss: 1.2667 - acc: 0.2667 - val_loss: 0.9001 - val_acc: 0.7500\n",
      "Epoch 4/50\n",
      "2/2 [==============================] - 0s 29ms/step - loss: 1.2501 - acc: 0.2667 - val_loss: 0.8888 - val_acc: 0.7500\n",
      "Epoch 5/50\n",
      "2/2 [==============================] - 0s 26ms/step - loss: 1.2304 - acc: 0.2667 - val_loss: 0.8780 - val_acc: 0.7500\n",
      "Epoch 6/50\n",
      "2/2 [==============================] - 0s 29ms/step - loss: 1.2159 - acc: 0.2667 - val_loss: 0.8681 - val_acc: 0.7500\n",
      "Epoch 7/50\n",
      "2/2 [==============================] - 0s 26ms/step - loss: 1.1976 - acc: 0.2667 - val_loss: 0.8605 - val_acc: 0.7500\n",
      "Epoch 8/50\n",
      "2/2 [==============================] - 0s 28ms/step - loss: 1.1817 - acc: 0.2667 - val_loss: 0.8529 - val_acc: 0.7500\n",
      "Epoch 9/50\n",
      "2/2 [==============================] - 0s 24ms/step - loss: 1.1664 - acc: 0.2667 - val_loss: 0.8454 - val_acc: 0.7500\n",
      "Epoch 10/50\n",
      "2/2 [==============================] - 0s 28ms/step - loss: 1.1496 - acc: 0.4000 - val_loss: 0.8369 - val_acc: 0.7500\n",
      "Epoch 11/50\n",
      "2/2 [==============================] - 0s 28ms/step - loss: 1.1360 - acc: 0.4000 - val_loss: 0.8301 - val_acc: 0.7500\n",
      "Epoch 12/50\n",
      "2/2 [==============================] - 0s 25ms/step - loss: 1.1227 - acc: 0.4000 - val_loss: 0.8241 - val_acc: 0.7500\n",
      "Epoch 13/50\n",
      "2/2 [==============================] - 0s 27ms/step - loss: 1.1080 - acc: 0.4000 - val_loss: 0.8179 - val_acc: 0.7500\n",
      "Epoch 14/50\n",
      "2/2 [==============================] - 0s 32ms/step - loss: 1.0948 - acc: 0.4000 - val_loss: 0.8114 - val_acc: 0.7500\n",
      "Epoch 15/50\n",
      "2/2 [==============================] - 0s 24ms/step - loss: 1.0825 - acc: 0.4000 - val_loss: 0.8043 - val_acc: 0.7500\n",
      "Epoch 16/50\n",
      "2/2 [==============================] - 0s 28ms/step - loss: 1.0695 - acc: 0.4000 - val_loss: 0.7974 - val_acc: 0.7500\n",
      "Epoch 17/50\n",
      "2/2 [==============================] - 0s 24ms/step - loss: 1.0577 - acc: 0.4000 - val_loss: 0.7906 - val_acc: 0.7500\n",
      "Epoch 18/50\n",
      "2/2 [==============================] - 0s 28ms/step - loss: 1.0443 - acc: 0.4667 - val_loss: 0.7841 - val_acc: 0.7500\n",
      "Epoch 19/50\n",
      "2/2 [==============================] - 0s 24ms/step - loss: 1.0330 - acc: 0.4667 - val_loss: 0.7776 - val_acc: 0.7500\n",
      "Epoch 20/50\n",
      "2/2 [==============================] - 0s 25ms/step - loss: 1.0225 - acc: 0.4000 - val_loss: 0.7715 - val_acc: 0.7500\n",
      "Epoch 21/50\n",
      "2/2 [==============================] - 0s 27ms/step - loss: 1.0132 - acc: 0.4000 - val_loss: 0.7659 - val_acc: 0.7500\n",
      "Epoch 22/50\n",
      "2/2 [==============================] - 0s 28ms/step - loss: 1.0009 - acc: 0.4000 - val_loss: 0.7610 - val_acc: 0.7500\n",
      "Epoch 23/50\n",
      "2/2 [==============================] - 0s 28ms/step - loss: 0.9919 - acc: 0.4667 - val_loss: 0.7569 - val_acc: 0.7500\n",
      "Epoch 24/50\n",
      "2/2 [==============================] - 0s 21ms/step - loss: 0.9809 - acc: 0.5333 - val_loss: 0.7544 - val_acc: 0.7500\n",
      "Epoch 25/50\n",
      "2/2 [==============================] - 0s 25ms/step - loss: 0.9706 - acc: 0.5333 - val_loss: 0.7520 - val_acc: 0.7500\n",
      "Epoch 26/50\n",
      "2/2 [==============================] - 0s 22ms/step - loss: 0.9632 - acc: 0.5333 - val_loss: 0.7497 - val_acc: 0.7500\n",
      "Epoch 27/50\n",
      "2/2 [==============================] - 0s 23ms/step - loss: 0.9508 - acc: 0.5333 - val_loss: 0.7475 - val_acc: 0.7500\n",
      "Epoch 28/50\n",
      "2/2 [==============================] - 0s 30ms/step - loss: 0.9433 - acc: 0.5333 - val_loss: 0.7454 - val_acc: 0.7500\n",
      "Epoch 29/50\n",
      "2/2 [==============================] - 0s 32ms/step - loss: 0.9330 - acc: 0.5333 - val_loss: 0.7433 - val_acc: 0.7500\n",
      "Epoch 30/50\n",
      "2/2 [==============================] - 0s 31ms/step - loss: 0.9244 - acc: 0.6000 - val_loss: 0.7413 - val_acc: 0.7500\n",
      "Epoch 31/50\n",
      "2/2 [==============================] - 0s 31ms/step - loss: 0.9155 - acc: 0.6000 - val_loss: 0.7393 - val_acc: 0.7500\n",
      "Epoch 32/50\n",
      "2/2 [==============================] - 0s 32ms/step - loss: 0.9078 - acc: 0.6000 - val_loss: 0.7373 - val_acc: 0.7500\n",
      "Epoch 33/50\n",
      "2/2 [==============================] - 0s 29ms/step - loss: 0.8993 - acc: 0.6000 - val_loss: 0.7346 - val_acc: 0.7500\n",
      "Epoch 34/50\n",
      "2/2 [==============================] - 0s 32ms/step - loss: 0.8909 - acc: 0.6000 - val_loss: 0.7322 - val_acc: 0.7500\n",
      "Epoch 35/50\n",
      "2/2 [==============================] - 0s 33ms/step - loss: 0.8835 - acc: 0.6000 - val_loss: 0.7299 - val_acc: 0.7500\n",
      "Epoch 36/50\n",
      "2/2 [==============================] - 0s 28ms/step - loss: 0.8743 - acc: 0.6000 - val_loss: 0.7278 - val_acc: 0.7500\n",
      "Epoch 37/50\n",
      "2/2 [==============================] - 0s 28ms/step - loss: 0.8662 - acc: 0.6667 - val_loss: 0.7272 - val_acc: 0.7500\n",
      "Epoch 38/50\n",
      "2/2 [==============================] - 0s 41ms/step - loss: 0.8576 - acc: 0.6667 - val_loss: 0.7278 - val_acc: 0.7500\n",
      "Epoch 39/50\n",
      "2/2 [==============================] - 0s 61ms/step - loss: 0.8491 - acc: 0.6667 - val_loss: 0.7285 - val_acc: 0.7500\n",
      "Epoch 40/50\n",
      "2/2 [==============================] - 0s 47ms/step - loss: 0.8419 - acc: 0.6667 - val_loss: 0.7284 - val_acc: 0.7500\n",
      "Epoch 41/50\n",
      "2/2 [==============================] - 0s 38ms/step - loss: 0.8326 - acc: 0.6667 - val_loss: 0.7278 - val_acc: 0.7500\n",
      "Epoch 42/50\n",
      "2/2 [==============================] - 0s 28ms/step - loss: 0.8251 - acc: 0.6667 - val_loss: 0.7276 - val_acc: 0.7500\n",
      "Epoch 43/50\n",
      "2/2 [==============================] - 0s 32ms/step - loss: 0.8164 - acc: 0.6667 - val_loss: 0.7280 - val_acc: 0.7500\n",
      "Epoch 44/50\n",
      "2/2 [==============================] - 0s 47ms/step - loss: 0.8088 - acc: 0.6667 - val_loss: 0.7285 - val_acc: 0.7500\n",
      "Epoch 45/50\n",
      "2/2 [==============================] - 0s 51ms/step - loss: 0.8015 - acc: 0.6000 - val_loss: 0.7295 - val_acc: 0.7500\n",
      "Epoch 46/50\n",
      "2/2 [==============================] - 0s 48ms/step - loss: 0.7946 - acc: 0.6000 - val_loss: 0.7309 - val_acc: 0.7500\n",
      "Epoch 47/50\n",
      "2/2 [==============================] - 0s 44ms/step - loss: 0.7868 - acc: 0.6000 - val_loss: 0.7321 - val_acc: 0.7500\n",
      "Epoch 48/50\n",
      "2/2 [==============================] - 0s 48ms/step - loss: 0.7808 - acc: 0.6000 - val_loss: 0.7336 - val_acc: 0.7500\n",
      "Epoch 49/50\n",
      "2/2 [==============================] - 0s 48ms/step - loss: 0.7733 - acc: 0.6000 - val_loss: 0.7350 - val_acc: 0.7500\n",
      "Epoch 50/50\n",
      "2/2 [==============================] - 0s 49ms/step - loss: 0.7669 - acc: 0.6000 - val_loss: 0.7366 - val_acc: 0.7500\n"
     ]
    }
   ],
   "source": [
    "# Train the model\n",
    "history = model.fit(\n",
    "    X_train, y_train,\n",
    "    batch_size=BATCH_SIZE,\n",
    "    epochs=NUM_OF_EPOCHS,\n",
    "    verbose=1,\n",
    "    validation_split=0.2  # Use 20% of the training data for validation\n",
    ")\n"
   ]
  },
  {
   "cell_type": "code",
   "execution_count": 24,
   "metadata": {},
   "outputs": [
    {
     "name": "stdout",
     "output_type": "stream",
     "text": [
      "1/1 [==============================] - 0s 26ms/step - loss: 0.6291 - acc: 0.8000\n",
      "Test Score (Loss): 0.6291371583938599\n",
      "Test Accuracy: 0.800000011920929\n"
     ]
    }
   ],
   "source": [
    "# Evaluate the model on the test set\n",
    "score = model.evaluate(X_test, y_test, verbose=1)\n",
    "\n",
    "# Print test loss and accuracy\n",
    "print(\"Test Score (Loss):\", score[0])\n",
    "print(\"Test Accuracy:\", score[1])\n"
   ]
  },
  {
   "cell_type": "code",
   "execution_count": 25,
   "metadata": {},
   "outputs": [
    {
     "name": "stdout",
     "output_type": "stream",
     "text": [
      "Model saved as 'LensesClassifyModel.h5'\n"
     ]
    }
   ],
   "source": [
    "# Save the model in HDF5 format\n",
    "model.save('LensesClassifyModel.h5')\n",
    "print(\"Model saved as 'LensesClassifyModel.h5'\")\n"
   ]
  },
  {
   "cell_type": "code",
   "execution_count": 27,
   "metadata": {},
   "outputs": [
    {
     "name": "stdout",
     "output_type": "stream",
     "text": [
      "[array([[0., 1., 0., 1., 0., 1., 0., 1., 0.]], dtype=float32)]\n"
     ]
    }
   ],
   "source": [
    "import numpy as np\n",
    "\n",
    "# Define a representative dataset generator for TensorFlow Lite quantization\n",
    "def representative_dataset():\n",
    "    for i in range(100):\n",
    "        # Use iloc to get the row at the specified index\n",
    "        data = X_test.iloc[i % len(X_test)]  # Cycle through X_test if i > len(X_test)\n",
    "        yield [np.array([data], dtype=np.float32)]  # Convert to float32 and add batch dimension\n",
    "\n",
    "# Test the function output\n",
    "for sample in representative_dataset():\n",
    "    print(sample)\n",
    "    break  # Print one sample to verify and then exit\n"
   ]
  },
  {
   "cell_type": "code",
   "execution_count": 28,
   "metadata": {},
   "outputs": [
    {
     "name": "stdout",
     "output_type": "stream",
     "text": [
      "INFO:tensorflow:Assets written to: saved_lenses_model_dir\\assets\n"
     ]
    },
    {
     "name": "stderr",
     "output_type": "stream",
     "text": [
      "WARNING:absl:Buffer deduplication procedure will be skipped when flatbuffer library is not properly loaded\n"
     ]
    },
    {
     "name": "stdout",
     "output_type": "stream",
     "text": [
      "Model converted and saved as 'LensesClassifyModel.tflite'\n"
     ]
    }
   ],
   "source": [
    "import tensorflow as tf\n",
    "\n",
    "# Save the model in the SavedModel format\n",
    "tf.saved_model.save(model, \"saved_lenses_model_dir\")\n",
    "\n",
    "# Load the saved model with TFLiteConverter\n",
    "converter = tf.lite.TFLiteConverter.from_saved_model(\"saved_lenses_model_dir\")\n",
    "\n",
    "# Set optimization to reduce the model size if desired (optional)\n",
    "converter.optimizations = [tf.lite.Optimize.DEFAULT]\n",
    "\n",
    "# Set the representative dataset for quantization\n",
    "converter.representative_dataset = representative_dataset\n",
    "\n",
    "# Convert the model to TensorFlow Lite format\n",
    "tflite_model = converter.convert()\n",
    "\n",
    "# Save the converted model to a .tflite file\n",
    "with open(\"LensesClassifyModel.tflite\", \"wb\") as f:\n",
    "    f.write(tflite_model)\n",
    "\n",
    "print(\"Model converted and saved as 'LensesClassifyModel.tflite'\")\n"
   ]
  },
  {
   "cell_type": "code",
   "execution_count": 29,
   "metadata": {},
   "outputs": [
    {
     "name": "stdout",
     "output_type": "stream",
     "text": [
      "Model saved as 'LensesClassifyModel.tflite'\n"
     ]
    }
   ],
   "source": [
    "# Save the model in TFLite format\n",
    "with open(\"LensesClassifyModel.tflite\", \"wb\") as f:\n",
    "    f.write(tflite_model)\n",
    "\n",
    "print(\"Model saved as 'LensesClassifyModel.tflite'\")\n"
   ]
  },
  {
   "cell_type": "code",
   "execution_count": 30,
   "metadata": {},
   "outputs": [
    {
     "name": "stdout",
     "output_type": "stream",
     "text": [
      "TFLite model loaded and tensors allocated.\n"
     ]
    }
   ],
   "source": [
    "import tensorflow as tf\n",
    "\n",
    "# Load the TFLite model and allocate tensors\n",
    "interpreter = tf.lite.Interpreter(model_path=\"LensesClassifyModel.tflite\")\n",
    "interpreter.allocate_tensors()\n",
    "\n",
    "print(\"TFLite model loaded and tensors allocated.\")\n"
   ]
  },
  {
   "cell_type": "code",
   "execution_count": 31,
   "metadata": {},
   "outputs": [
    {
     "name": "stdout",
     "output_type": "stream",
     "text": [
      "Input details:\n",
      " [{'name': 'serving_default_flatten_input:0', 'index': 0, 'shape': array([1, 9]), 'shape_signature': array([-1,  9]), 'dtype': <class 'numpy.float32'>, 'quantization': (0.0, 0), 'quantization_parameters': {'scales': array([], dtype=float32), 'zero_points': array([], dtype=int32), 'quantized_dimension': 0}, 'sparsity_parameters': {}}]\n",
      "Output details:\n",
      " [{'name': 'StatefulPartitionedCall:0', 'index': 14, 'shape': array([1, 3]), 'shape_signature': array([-1,  3]), 'dtype': <class 'numpy.float32'>, 'quantization': (0.0, 0), 'quantization_parameters': {'scales': array([], dtype=float32), 'zero_points': array([], dtype=int32), 'quantized_dimension': 0}, 'sparsity_parameters': {}}]\n"
     ]
    }
   ],
   "source": [
    "# Get input and output tensor details\n",
    "input_details = interpreter.get_input_details()\n",
    "output_details = interpreter.get_output_details()\n",
    "\n",
    "# Display input and output details\n",
    "print(\"Input details:\\n\", input_details)\n",
    "print(\"Output details:\\n\", output_details)\n"
   ]
  },
  {
   "cell_type": "code",
   "execution_count": 33,
   "metadata": {},
   "outputs": [
    {
     "name": "stdout",
     "output_type": "stream",
     "text": [
      "Input details:\n",
      " [{'name': 'serving_default_flatten_input:0', 'index': 0, 'shape': array([1, 9]), 'shape_signature': array([-1,  9]), 'dtype': <class 'numpy.float32'>, 'quantization': (0.0, 0), 'quantization_parameters': {'scales': array([], dtype=float32), 'zero_points': array([], dtype=int32), 'quantized_dimension': 0}, 'sparsity_parameters': {}}]\n",
      "Output details:\n",
      " [{'name': 'StatefulPartitionedCall:0', 'index': 14, 'shape': array([1, 3]), 'shape_signature': array([-1,  3]), 'dtype': <class 'numpy.float32'>, 'quantization': (0.0, 0), 'quantization_parameters': {'scales': array([], dtype=float32), 'zero_points': array([], dtype=int32), 'quantized_dimension': 0}, 'sparsity_parameters': {}}]\n",
      "Random input output: [[0.19140625 0.22265625 0.5859375 ]]\n",
      "Sample from X_test output: [[0.23046875 0.19140625 0.58203125]]\n",
      "Original model output for X_test sample: [[0.2299582  0.19010498 0.57993686]]\n",
      "Output for structured input1_data: [[0.3359375 0.3203125 0.34375  ]]\n",
      "Original model output for structured input1_data: [[0.33381525 0.31892225 0.34726244]]\n"
     ]
    }
   ],
   "source": [
    "import numpy as np\n",
    "import tensorflow as tf\n",
    "\n",
    "# Load the TFLite model and allocate tensors\n",
    "interpreter = tf.lite.Interpreter(model_path=\"LensesClassifyModel.tflite\")\n",
    "interpreter.allocate_tensors()\n",
    "\n",
    "# Get input and output details\n",
    "input_details = interpreter.get_input_details()\n",
    "output_details = interpreter.get_output_details()\n",
    "\n",
    "# Display input and output details for verification\n",
    "print(\"Input details:\\n\", input_details)\n",
    "print(\"Output details:\\n\", output_details)\n",
    "\n",
    "# 1. Test with random input data to check functionality\n",
    "input_shape = input_details[0]['shape']\n",
    "random_input_data = np.random.random_sample(input_shape).astype(np.float32)\n",
    "interpreter.set_tensor(input_details[0]['index'], random_input_data)\n",
    "\n",
    "# Run inference\n",
    "interpreter.invoke()\n",
    "output_data = interpreter.get_tensor(output_details[0]['index'])\n",
    "print(\"Random input output:\", output_data)\n",
    "\n",
    "# 2. Test with a sample from X_test\n",
    "# Assuming X_test is a DataFrame, we take a sample and convert it to a numpy array\n",
    "sample_input_data = np.array([X_test.iloc[0]], dtype=np.float32)\n",
    "interpreter.set_tensor(input_details[0]['index'], sample_input_data)\n",
    "\n",
    "# Run inference\n",
    "interpreter.invoke()\n",
    "sample_output_data = interpreter.get_tensor(output_details[0]['index'])\n",
    "print(\"Sample from X_test output:\", sample_output_data)\n",
    "\n",
    "# Verify with the original model\n",
    "original_model_output = model.predict(sample_input_data)\n",
    "print(\"Original model output for X_test sample:\", original_model_output)\n",
    "\n",
    "# 3. Test with additional specific structured input data\n",
    "# Create structured input matching the one-hot encoding format of the lenses dataset\n",
    "input1_data = np.array([[1.0, 0.0, 0.0,  # age (e.g., young)\n",
    "                         1.0, 0.0,        # prescription (e.g., myope)\n",
    "                         0.0, 1.0,        # astigmatic (e.g., yes)\n",
    "                         0.0, 1.0]],      # tear_rate (e.g., normal)\n",
    "                        dtype=np.float32)\n",
    "\n",
    "interpreter.set_tensor(input_details[0]['index'], input1_data)\n",
    "interpreter.invoke()\n",
    "output1_data = interpreter.get_tensor(output_details[0]['index'])\n",
    "print(\"Output for structured input1_data:\", output1_data)\n",
    "\n",
    "# Verify with the original model for the same input\n",
    "original_model_output1 = model.predict(input1_data)\n",
    "print(\"Original model output for structured input1_data:\", original_model_output1)\n"
   ]
  },
  {
   "cell_type": "code",
   "execution_count": 34,
   "metadata": {},
   "outputs": [],
   "source": [
    "import time\n",
    "import sys\n",
    "import numpy as np\n",
    "import tensorflow as tf\n",
    "\n",
    "# Function to convert hex values into a C array for deployment on ESP32\n",
    "def hex_to_c_array(hex_data, var_name):\n",
    "    c_str = \"\"\n",
    "\n",
    "    # Create header guard\n",
    "    c_str += '#ifndef ' + var_name.upper() + '_H\\n'\n",
    "    c_str += \"#define \" + var_name.upper() + '_H\\n\\n'\n",
    "\n",
    "    c_str += \"/*\\n Author: Auto Generated\\n\"\n",
    "    c_str += \" CAUTION: This is an auto-generated file.\\n DO NOT EDIT OR MAKE ANY CHANGES TO IT.\\n\"\n",
    "\n",
    "    # Time stamp for this model data in the generated file\n",
    "    localtime = time.asctime(time.localtime(time.time()))\n",
    "    c_str += \" This model data was generated on \" + localtime + '\\n\\n'\n",
    "    print(\"This model data was generated on:\", localtime)\n",
    "\n",
    "    # Add information about tool versions used in generating this header file\n",
    "    c_str += \" Tools used:\\n Python:\" + str(sys.version) + \"\\n Numpy:\" + str(np.__version__) + \\\n",
    "          \"\\n TensorFlow:\" + str(tf.__version__) + \"\\n Keras: \" + str(tf.keras.__version__) + \"\\n\\n\"\n",
    "    print(\"Tools used: Python:\", sys.version, \"\\n Numpy:\", np.__version__, \\\n",
    "          \"\\n TensorFlow:\", tf.__version__, \"\\n Keras:\", tf.keras.__version__, \"\\n\\n\")\n",
    "\n",
    "    # Training details of the model\n",
    "    c_str += ' Model details are:\\n'\n",
    "    c_str += ' NUM_OF_EPOCHS = ' + str(NUM_OF_EPOCHS) + '\\n'\n",
    "    c_str += ' BATCH_SIZE    = ' + str(BATCH_SIZE) + '\\n*/\\n'\n",
    "\n",
    "    # Generate 'C' constants for the number of nodes in each layer\n",
    "    c_str += '\\nconst int ' + 'DENSE1_SIZE' + ' = ' + str(DENSE1_SIZE) + ';\\n'\n",
    "    c_str +=   'const int ' + 'DENSE2_SIZE' + ' = ' + str(DENSE2_SIZE) + ';\\n'      \n",
    "\n",
    "    # Add array length at the top of the file\n",
    "    c_str += '\\nconst unsigned int ' + var_name + '_len = ' + str(len(hex_data)) + ';\\n'\n",
    "\n",
    "    # Declare C variable\n",
    "    c_str += 'alignas(8) const unsigned char ' + var_name + '[] = {\\n'\n",
    "    hex_array = []\n",
    "    for i, val in enumerate(hex_data):\n",
    "        # Construct string from hex\n",
    "        hex_str = format(val, '#04x')\n",
    "\n",
    "        # Add comma for formatting and newlines to stay within 80 characters per line\n",
    "        if (i + 1) < len(hex_data):\n",
    "            hex_str += ','\n",
    "        if (i + 1) % 12 == 0:\n",
    "            hex_str += '\\n'\n",
    "        hex_array.append(hex_str)\n",
    "\n",
    "    # Add closing brace\n",
    "    c_str += '\\n' + ''.join(hex_array) + '\\n};\\n\\n'\n",
    "\n",
    "    # Close out header guard\n",
    "    c_str += '#endif //' + var_name.upper() + '_H'\n",
    "\n",
    "    return c_str\n",
    "\n",
    "# Example usage:\n",
    "# Assuming `tflite_model_content` contains the raw byte data of the TFLite model\n",
    "# with open(\"LensesClassifyModel.tflite\", \"rb\") as f:\n",
    "#     tflite_model_content = f.read()\n",
    "\n",
    "# Convert to C array format\n",
    "# c_code = hex_to_c_array(tflite_model_content, \"LensesClassifyModel\")\n",
    "# print(c_code)\n"
   ]
  },
  {
   "cell_type": "code",
   "execution_count": 35,
   "metadata": {},
   "outputs": [
    {
     "name": "stdout",
     "output_type": "stream",
     "text": [
      "This model data was generated on: Sat Nov  2 17:42:28 2024\n",
      "Tools used: Python: 3.7.12 | packaged by conda-forge | (default, Oct 26 2021, 05:37:49) [MSC v.1916 64 bit (AMD64)] \n",
      " Numpy: 1.21.5 \n",
      " TensorFlow: 2.7.0 \n",
      " Keras: 2.7.0 \n",
      "\n",
      "\n",
      "Model saved as 'lenses_model_esp32.h'\n"
     ]
    }
   ],
   "source": [
    "# Save the TFLite model as a C source (.h) file for ESP32 deployment\n",
    "with open(\"lenses_model_esp32.h\", 'w') as file:\n",
    "    file.write(hex_to_c_array(tflite_model, \"lenses_model_esp32\"))\n",
    "\n",
    "print(\"Model saved as 'lenses_model_esp32.h'\")\n"
   ]
  },
  {
   "cell_type": "markdown",
   "metadata": {},
   "source": [
    "## Verifying OUTPUT from the ino file"
   ]
  },
  {
   "cell_type": "code",
   "execution_count": 36,
   "metadata": {},
   "outputs": [
    {
     "name": "stdout",
     "output_type": "stream",
     "text": [
      "Expected output for Input1: [[0.3952378  0.3734845  0.23127764]]\n",
      "Expected output for Input2: [[0.08433089 0.08113607 0.8345331 ]]\n"
     ]
    }
   ],
   "source": [
    "import numpy as np\n",
    "\n",
    "# Define inputs matching the ESP32 inputs\n",
    "input1 = np.array([[1.0, 0.0, 0.0,  # age (young)\n",
    "                    1.0, 0.0,        # prescription (myope)\n",
    "                    1.0, 0.0,        # astigmatic (no)\n",
    "                    0.0, 1.0]], dtype=np.float32)  # tear_rate (normal)\n",
    "\n",
    "input2 = np.array([[0.0, 0.0, 1.0,  # age (presbyopic)\n",
    "                    0.0, 1.0,        # prescription (hypermetrope)\n",
    "                    0.0, 1.0,        # astigmatic (yes)\n",
    "                    1.0, 0.0]], dtype=np.float32)  # tear_rate (reduced)\n",
    "\n",
    "# Assuming the trained Keras model is loaded as `model`\n",
    "output1 = model.predict(input1)\n",
    "output2 = model.predict(input2)\n",
    "\n",
    "# Display the expected output probabilities\n",
    "print(\"Expected output for Input1:\", output1)\n",
    "print(\"Expected output for Input2:\", output2)\n"
   ]
  }
 ],
 "metadata": {
  "kernelspec": {
   "display_name": "sem5_py_37",
   "language": "python",
   "name": "python3"
  },
  "language_info": {
   "codemirror_mode": {
    "name": "ipython",
    "version": 3
   },
   "file_extension": ".py",
   "mimetype": "text/x-python",
   "name": "python",
   "nbconvert_exporter": "python",
   "pygments_lexer": "ipython3",
   "version": "3.7.12"
  }
 },
 "nbformat": 4,
 "nbformat_minor": 2
}
